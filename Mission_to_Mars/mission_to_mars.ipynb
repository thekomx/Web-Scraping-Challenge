{
 "metadata": {
  "language_info": {
   "codemirror_mode": {
    "name": "ipython",
    "version": 3
   },
   "file_extension": ".py",
   "mimetype": "text/x-python",
   "name": "python",
   "nbconvert_exporter": "python",
   "pygments_lexer": "ipython3",
   "version": "3.7.7-final"
  },
  "orig_nbformat": 2,
  "kernelspec": {
   "name": "python38232bit632f92d94b334b1aa5c33d1f4817b823",
   "display_name": "Python 3.8.2 32-bit"
  }
 },
 "nbformat": 4,
 "nbformat_minor": 2,
 "cells": [
  {
   "cell_type": "code",
   "execution_count": 1,
   "metadata": {},
   "outputs": [],
   "source": [
    "import requests\n",
    "import pandas as pd\n",
    "\n",
    "from bs4 import BeautifulSoup\n",
    "from splinter import Browser\n",
    "from webdriver_manager.chrome import ChromeDriverManager"
   ]
  },
  {
   "cell_type": "code",
   "execution_count": 2,
   "metadata": {},
   "outputs": [],
   "source": [
    "mars_news = 'https://mars.nasa.gov/news/'\n",
    "mars_pics = 'https://www.jpl.nasa.gov/spaceimages/?search=&category=Mars'\n",
    "mars_facts = 'https://space-facts.com/mars/'\n",
    "mars_hemisp = 'https://astrogeology.usgs.gov/search/results?q=hemisphere+enhanced&k1=target&v1=Mars'"
   ]
  },
  {
   "cell_type": "code",
   "execution_count": 3,
   "metadata": {
    "tags": []
   },
   "outputs": [
    {
     "output_type": "stream",
     "name": "stderr",
     "text": "[WDM] - Current google-chrome version is 84.0.4147\n[WDM] - Get LATEST driver version for 84.0.4147\n[WDM] - Driver [C:\\Users\\theko\\.wdm\\drivers\\chromedriver\\win32\\84.0.4147.30\\chromedriver.exe] found in cache\n \n"
    }
   ],
   "source": [
    "executable_path = {'executable_path':ChromeDriverManager().install()}\n",
    "browser = Browser('chrome', **executable_path, headless=False)"
   ]
  },
  {
   "cell_type": "markdown",
   "metadata": {},
   "source": [
    "# Scrape News"
   ]
  },
  {
   "cell_type": "code",
   "execution_count": 4,
   "metadata": {},
   "outputs": [],
   "source": [
    "browser.visit(mars_news)\n",
    "browser.driver.maximize_window()\n",
    "soup_mars_news = BeautifulSoup(browser.html, 'lxml')"
   ]
  },
  {
   "cell_type": "code",
   "execution_count": 5,
   "metadata": {},
   "outputs": [],
   "source": [
    "list_soup_mars_news = soup_mars_news.find_all('li', class_='slide')\n",
    "mars_news_list = []\n",
    "for l in list_soup_mars_news:\n",
    "    try:\n",
    "        mars_news_list.append({'title':l.find('div', class_='content_title').text.strip(),\\\n",
    "                                'content':l.find('div', class_='article_teaser_body').text.strip(),\\\n",
    "                                'date':l.find('div', class_='list_date').text.strip()})\n",
    "    except:\n",
    "        pass"
   ]
  },
  {
   "cell_type": "code",
   "execution_count": 6,
   "metadata": {},
   "outputs": [
    {
     "output_type": "execute_result",
     "data": {
      "text/plain": "40"
     },
     "metadata": {},
     "execution_count": 6
    }
   ],
   "source": [
    "len(mars_news_list)"
   ]
  },
  {
   "cell_type": "markdown",
   "metadata": {},
   "source": [
    "# Scrape Pictures"
   ]
  },
  {
   "cell_type": "code",
   "execution_count": 7,
   "metadata": {},
   "outputs": [],
   "source": [
    "browser.visit(mars_pics)\n",
    "browser.driver.maximize_window()\n",
    "soup_mars_pics = BeautifulSoup(browser.html, 'lxml')"
   ]
  },
  {
   "cell_type": "code",
   "execution_count": 8,
   "metadata": {
    "tags": []
   },
   "outputs": [],
   "source": [
    "list_soup_mars_pics = soup_mars_pics.find_all('ul', class_='articles')[0].find_all('li', class_='slide')\n",
    "mars_pics_web = 'https://www.jpl.nasa.gov'\n",
    "mars_pics_list=[]\n",
    "for l in list_soup_mars_pics:\n",
    "    try:\n",
    "        release_date = {'release_date':l.find(class_='release_date').text}\n",
    "        item_tease_overlay = {'item_tease_overlay':l.find(class_='item_tease_overlay').text}\n",
    "        thumb = {'thumb':mars_pics_web+l.find(class_='thumb')['src']}\n",
    "        large = {'large':mars_pics_web+l.a['data-fancybox-href']}\n",
    "        mars_pics_list.append(dict(release_date, **item_tease_overlay, **thumb, **large))\n",
    "    except:\n",
    "        pass"
   ]
  },
  {
   "cell_type": "code",
   "execution_count": 9,
   "metadata": {},
   "outputs": [
    {
     "output_type": "execute_result",
     "data": {
      "text/plain": "32"
     },
     "metadata": {},
     "execution_count": 9
    }
   ],
   "source": [
    "len(mars_pics_list)"
   ]
  },
  {
   "cell_type": "markdown",
   "metadata": {},
   "source": [
    "# Scrape Facts Tables"
   ]
  },
  {
   "cell_type": "code",
   "execution_count": 10,
   "metadata": {},
   "outputs": [],
   "source": [
    "\n",
    "list_mars_facts = pd.read_html(mars_facts)\n",
    "\n",
    "mars_facts_list = []\n",
    "for l in list_mars_facts:\n",
    "    mars_facts_list.append({'fact_html_table' : l.to_html(index=False)})\n"
   ]
  },
  {
   "cell_type": "code",
   "execution_count": 11,
   "metadata": {},
   "outputs": [
    {
     "output_type": "execute_result",
     "data": {
      "text/plain": "  Mars - Earth Comparison             Mars            Earth\n0               Diameter:         6,779 km        12,742 km\n1                   Mass:  6.39 × 10^23 kg  5.97 × 10^24 kg\n2                  Moons:                2                1\n3      Distance from Sun:   227,943,824 km   149,598,262 km\n4         Length of Year:   687 Earth days      365.24 days\n5            Temperature:     -87 to -5 °C      -88 to 58°C",
      "text/html": "<div>\n<style scoped>\n    .dataframe tbody tr th:only-of-type {\n        vertical-align: middle;\n    }\n\n    .dataframe tbody tr th {\n        vertical-align: top;\n    }\n\n    .dataframe thead th {\n        text-align: right;\n    }\n</style>\n<table border=\"1\" class=\"dataframe\">\n  <thead>\n    <tr style=\"text-align: right;\">\n      <th></th>\n      <th>Mars - Earth Comparison</th>\n      <th>Mars</th>\n      <th>Earth</th>\n    </tr>\n  </thead>\n  <tbody>\n    <tr>\n      <th>0</th>\n      <td>Diameter:</td>\n      <td>6,779 km</td>\n      <td>12,742 km</td>\n    </tr>\n    <tr>\n      <th>1</th>\n      <td>Mass:</td>\n      <td>6.39 × 10^23 kg</td>\n      <td>5.97 × 10^24 kg</td>\n    </tr>\n    <tr>\n      <th>2</th>\n      <td>Moons:</td>\n      <td>2</td>\n      <td>1</td>\n    </tr>\n    <tr>\n      <th>3</th>\n      <td>Distance from Sun:</td>\n      <td>227,943,824 km</td>\n      <td>149,598,262 km</td>\n    </tr>\n    <tr>\n      <th>4</th>\n      <td>Length of Year:</td>\n      <td>687 Earth days</td>\n      <td>365.24 days</td>\n    </tr>\n    <tr>\n      <th>5</th>\n      <td>Temperature:</td>\n      <td>-87 to -5 °C</td>\n      <td>-88 to 58°C</td>\n    </tr>\n  </tbody>\n</table>\n</div>"
     },
     "metadata": {},
     "execution_count": 11
    }
   ],
   "source": [
    "list_mars_facts[1]"
   ]
  },
  {
   "cell_type": "markdown",
   "metadata": {},
   "source": [
    "# Scrape Hemisphere Pictures"
   ]
  },
  {
   "cell_type": "code",
   "execution_count": 12,
   "metadata": {},
   "outputs": [],
   "source": [
    "browser.visit(mars_hemisp)\n",
    "browser.driver.maximize_window()\n",
    "soup_mars_hemisp = BeautifulSoup(browser.html, 'lxml')"
   ]
  },
  {
   "cell_type": "code",
   "execution_count": 13,
   "metadata": {
    "tags": []
   },
   "outputs": [],
   "source": [
    "list_soup_mars_hempisp = soup_mars_hemisp.find_all('div', class_='collapsible results')[0].find_all('div', class_='item')\n",
    "mars_hemisp_web = 'https://astrogeology.usgs.gov'\n",
    "mars_hemisp_list = []\n",
    "for l in list_soup_mars_hempisp:\n",
    "    try:\n",
    "        title = l.h3.text.replace(' Enhanced', '')\n",
    "        link = BeautifulSoup(requests.get(mars_hemisp_web+l.a['href']).text, 'lxml')\n",
    "        img_url = link.find_all('div', class_='downloads')[0].a['href']\n",
    "        mars_hemisp_list.append({'title':title, 'img_url':img_url})\n",
    "    except:\n",
    "        pass"
   ]
  },
  {
   "cell_type": "code",
   "execution_count": 14,
   "metadata": {},
   "outputs": [
    {
     "output_type": "execute_result",
     "data": {
      "text/plain": "4"
     },
     "metadata": {},
     "execution_count": 14
    }
   ],
   "source": [
    "len(mars_hemisp_list)"
   ]
  },
  {
   "cell_type": "code",
   "execution_count": 15,
   "metadata": {},
   "outputs": [],
   "source": [
    "browser.driver.close()"
   ]
  }
 ]
}