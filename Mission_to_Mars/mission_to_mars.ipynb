{
 "metadata": {
  "language_info": {
   "codemirror_mode": {
    "name": "ipython",
    "version": 3
   },
   "file_extension": ".py",
   "mimetype": "text/x-python",
   "name": "python",
   "nbconvert_exporter": "python",
   "pygments_lexer": "ipython3",
   "version": "3.7.7-final"
  },
  "orig_nbformat": 2,
  "kernelspec": {
   "name": "python38232bit632f92d94b334b1aa5c33d1f4817b823",
   "display_name": "Python 3.8.2 32-bit"
  }
 },
 "nbformat": 4,
 "nbformat_minor": 2,
 "cells": [
  {
   "cell_type": "code",
   "execution_count": null,
   "metadata": {},
   "outputs": [],
   "source": [
    "from bs4 import BeautifulSoup\n",
    "import requests\n",
    "import pandas as pd"
   ]
  },
  {
   "cell_type": "code",
   "execution_count": null,
   "metadata": {},
   "outputs": [],
   "source": []
  },
  {
   "cell_type": "code",
   "execution_count": null,
   "metadata": {},
   "outputs": [],
   "source": [
    "mars_news = 'https://mars.nasa.gov/news/'\n",
    "soup_mars_news = BeautifulSoup(requests.get(mars_news).text,'lxml')\n",
    "\n",
    "list_soup_mars_news = soup_mars_news.find_all(class_='slide')\n",
    "mars_news_list = []\n",
    "for l in list_soup_mars_news:\n",
    "    try:\n",
    "        mars_news_list.append({'title':l.find('div', class_='content_title').text.strip(), 'content':l.find('div', class_='rollover_description_inner').text.strip()})\n",
    "    except:\n",
    "        pass"
   ]
  },
  {
   "cell_type": "code",
   "execution_count": null,
   "metadata": {},
   "outputs": [],
   "source": [
    "mars_pics = 'https://www.jpl.nasa.gov/spaceimages/?search=&category=Mars'\n",
    "soup_mars_pics = BeautifulSoup(requests.get(mars_pics).text, 'lxml')\n",
    "\n",
    "list_soup_mars_pics = soup_mars_pics.find_all('li', class_='slide')\n",
    "mars_pics_list=[]\n",
    "for l in list_soup_mars_pics:\n",
    "    try:\n",
    "        release_date = {'release_date':l.find(class_='release_date').text}\n",
    "        item_tease_overlay = {'item_tease_overlay':l.find(class_='item_tease_overlay').text}\n",
    "        thumb = {'thumb':l.find(class_='thumb')['src']}\n",
    "        large = {'large':l.a['data-fancybox-href']}\n",
    "        mars_pics_list.append(dict(release_date, **item_tease_overlay, **thumb, **large))\n",
    "    except:\n",
    "        pass"
   ]
  },
  {
   "cell_type": "code",
   "execution_count": null,
   "metadata": {},
   "outputs": [],
   "source": [
    "mars_facts = 'https://space-facts.com/mars/'\n",
    "list_mars_facts = pd.read_html(mars_facts)\n",
    "\n",
    "mars_facts_list = []\n",
    "for l in list_mars_facts:\n",
    "    mars_facts_list.append({'fact_html_table' : l.to_html()})\n"
   ]
  },
  {
   "cell_type": "code",
   "execution_count": null,
   "metadata": {},
   "outputs": [],
   "source": [
    "# mars_hemisp = 'https://astrogeology.usgs.gov/search/results?q=hemisphere+enhanced&k1=target&v1=Mars'\n",
    "mars_hemisp_list = [{\"title\":\"Valles Marineris Hemisphere\", \"img_url\":\"https://astropedia.astrogeology.usgs.gov/download/Mars/Viking/valles_marineris_enhanced.tif/full.jpg\"},\\\n",
    "                    {\"title\":\"Cerberus Hemisphere\", \"img_url\":\"https://astropedia.astrogeology.usgs.gov/download/Mars/Viking/cerberus_enhanced.tif/full.jpg\"},\\\n",
    "                    {\"title\":\"Schiaparelli Hemisphere\", \"img_url\":\"https://astropedia.astrogeology.usgs.gov/download/Mars/Viking/schiaparelli_enhanced.tif/full.jpg\"},\\\n",
    "                    {\"title\":\"Syrtis Major Hemisphere\", \"img_url\":\"https://astropedia.astrogeology.usgs.gov/download/Mars/Viking/syrtis_major_enhanced.tif/full.jpg\"}]\n"
   ]
  },
  {
   "cell_type": "code",
   "execution_count": null,
   "metadata": {},
   "outputs": [],
   "source": []
  }
 ]
}